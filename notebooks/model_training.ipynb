{
 "cells": [
  {
   "cell_type": "markdown",
   "id": "6bc06806",
   "metadata": {},
   "source": [
    "## Training a Decision Tree Classifier\n",
    "### Overview\n",
    "- Train a Decision Tree Classifier on the preprocessed data.\n",
    "- Use `X_train`, `y_train` for training and predict on `X_test`."
   ]
  },
  {
   "cell_type": "code",
   "execution_count": 8,
   "id": "e8528105",
   "metadata": {},
   "outputs": [
    {
     "name": "stdout",
     "output_type": "stream",
     "text": [
      "Training features shape: (32950, 20)\n",
      "Test features shape: (8238, 20)\n",
      "Training target shape: (32950,)\n",
      "Test target shape: (8238,)\n"
     ]
    }
   ],
   "source": [
    "import pandas as pd\n",
    "from sklearn.preprocessing import LabelEncoder\n",
    "from sklearn.model_selection import train_test_split\n",
    "\n",
    "# Load the dataset\n",
    "data = pd.read_csv('../data/bank-additional-full.csv', sep=';')\n",
    "\n",
    "# Encode categorical columns\n",
    "categorical_cols = data.select_dtypes(include=['object']).columns\n",
    "label_encoders = {}\n",
    "for col in categorical_cols:\n",
    "    label_encoders[col] = LabelEncoder()\n",
    "    data[col] = label_encoders[col].fit_transform(data[col])\n",
    "\n",
    "# Separate features and target\n",
    "X = data.drop('y', axis=1)\n",
    "y = data['y']\n",
    "\n",
    "# Split data\n",
    "X_train, X_test, y_train, y_test = train_test_split(X, y, test_size=0.2, random_state=42)\n",
    "\n",
    "# Verify shapes\n",
    "print(\"Training features shape:\", X_train.shape)\n",
    "print(\"Test features shape:\", X_test.shape)\n",
    "print(\"Training target shape:\", y_train.shape)\n",
    "print(\"Test target shape:\", y_test.shape)"
   ]
  },
  {
   "cell_type": "markdown",
   "id": "13246254",
   "metadata": {},
   "source": [
    "### Initializing the Decision Tree Classifier\n",
    "- Import `DecisionTreeClassifier` from scikit-learn.\n",
    "- Initialize with `random_state=42` for reproducibility."
   ]
  },
  {
   "cell_type": "code",
   "execution_count": 9,
   "id": "13da533f",
   "metadata": {},
   "outputs": [
    {
     "name": "stdout",
     "output_type": "stream",
     "text": [
      "Decision Tree Classifier initialized with random_state=42\n"
     ]
    }
   ],
   "source": [
    "from sklearn.tree import DecisionTreeClassifier\n",
    "\n",
    "# Initialize the classifier\n",
    "dt_classifier = DecisionTreeClassifier(random_state=42)\n",
    "\n",
    "# Verify initialization\n",
    "print(\"Decision Tree Classifier initialized with random_state=42\")"
   ]
  },
  {
   "cell_type": "markdown",
   "id": "be69be6d",
   "metadata": {},
   "source": [
    "### Training the Model\n",
    "- Fit the classifier on `X_train` and `y_train`."
   ]
  },
  {
   "cell_type": "code",
   "execution_count": 10,
   "id": "5a29a884",
   "metadata": {},
   "outputs": [
    {
     "name": "stdout",
     "output_type": "stream",
     "text": [
      "Model trained successfully\n"
     ]
    }
   ],
   "source": [
    "# Train the model\n",
    "dt_classifier.fit(X_train, y_train)\n",
    "\n",
    "# Confirm training\n",
    "print(\"Model trained successfully\")"
   ]
  },
  {
   "cell_type": "markdown",
   "id": "9e3053f7",
   "metadata": {},
   "source": [
    "### Predicting on Test Data\n",
    "- Use the trained model to predict `y_pred` for `X_test`."
   ]
  },
  {
   "cell_type": "code",
   "execution_count": 11,
   "id": "de758791",
   "metadata": {},
   "outputs": [
    {
     "name": "stdout",
     "output_type": "stream",
     "text": [
      "First 10 predictions: [0 0 0 0 0 0 0 0 0 0]\n",
      "Shape of predictions: (8238,)\n"
     ]
    }
   ],
   "source": [
    "# Predict on test data\n",
    "y_pred = dt_classifier.predict(X_test)\n",
    "\n",
    "# Verify predictions\n",
    "print(\"First 10 predictions:\", y_pred[:10])\n",
    "print(\"Shape of predictions:\", y_pred.shape)"
   ]
  },
  {
   "cell_type": "code",
   "execution_count": 12,
   "id": "6042ce7e",
   "metadata": {},
   "outputs": [
    {
     "name": "stdout",
     "output_type": "stream",
     "text": [
      "Number of features: 20\n",
      "Classes: [0 1]\n"
     ]
    }
   ],
   "source": [
    "# Check model attributes\n",
    "print(\"Number of features:\", dt_classifier.n_features_in_)\n",
    "print(\"Classes:\", dt_classifier.classes_)"
   ]
  },
  {
   "cell_type": "code",
   "execution_count": 13,
   "id": "96e06262",
   "metadata": {},
   "outputs": [
    {
     "name": "stdout",
     "output_type": "stream",
     "text": [
      "Prediction counts (0 = no, 1 = yes):\n",
      "[7300  938]\n"
     ]
    }
   ],
   "source": [
    "# Check distribution of predictions\n",
    "import numpy as np\n",
    "print(\"Prediction counts (0 = no, 1 = yes):\")\n",
    "print(np.bincount(y_pred))"
   ]
  },
  {
   "cell_type": "code",
   "execution_count": null,
   "id": "312e3d97",
   "metadata": {},
   "outputs": [],
   "source": []
  }
 ],
 "metadata": {
  "kernelspec": {
   "display_name": "venv",
   "language": "python",
   "name": "python3"
  },
  "language_info": {
   "codemirror_mode": {
    "name": "ipython",
    "version": 3
   },
   "file_extension": ".py",
   "mimetype": "text/x-python",
   "name": "python",
   "nbconvert_exporter": "python",
   "pygments_lexer": "ipython3",
   "version": "3.11.4"
  }
 },
 "nbformat": 4,
 "nbformat_minor": 5
}
